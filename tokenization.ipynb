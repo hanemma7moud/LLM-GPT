{
 "cells": [
  {
   "cell_type": "markdown",
   "metadata": {},
   "source": [
    "Open the book in txt format and read it. Then print the total number of characters and the first 100 characters"
   ]
  },
  {
   "cell_type": "code",
   "execution_count": 1,
   "metadata": {},
   "outputs": [
    {
     "name": "stdout",
     "output_type": "stream",
     "text": [
      "Total number of character: 20479\n",
      "I HAD always thought Jack Gisburn rather a cheap genius--though a good fellow enough--so it was no \n"
     ]
    }
   ],
   "source": [
    "with open (\"the-verdict.txt\", \"r\", encoding=\"utf-8\") as f:\n",
    "    raw_text = f.read()\n",
    "    \n",
    "print(\"Total number of character:\", len(raw_text))\n",
    "print (raw_text[:99])"
   ]
  },
  {
   "cell_type": "markdown",
   "metadata": {},
   "source": [
    "We need to tokonize the text which means dividing the text into individual words and special charaters.\n",
    "For the common LLM used by big companies like OpenAI and Meta, they used a massive dataset to train their model but for this one we just use one book for educational purpose and limited resources."
   ]
  },
  {
   "cell_type": "code",
   "execution_count": 6,
   "metadata": {},
   "outputs": [
    {
     "name": "stdout",
     "output_type": "stream",
     "text": [
      "['Hello', ', ', 'world', '. ', 'This', ', ', 'is', ' ', 'a', ' ', 'test.']\n",
      "['Hello', ', ', 'world', '. ', 'This', ', ', 'is', 'a', 'test.']\n"
     ]
    }
   ],
   "source": [
    "# the \"re\"- regular expression operator- python liberary used to split the text and build a simple tokenizer\n",
    "import re\n",
    "text= \"Hello, world. This, is a test.\"\n",
    "#result= re.split(r'(\\s)', text) #\\s splitting based on white space\n",
    "#['Hello,', ' ', 'world.', ' ', 'This,', ' ', 'is', ' ', 'a', ' ', 'test.']\n",
    "result= re.split(r'([, .] |\\s)', text) #splitting also , and . you can add all special characters\n",
    "#['Hello', ', ', 'world', '. ', 'This', ', ', 'is', ' ', 'a', ' ', 'test.']\n",
    "\n",
    "print (result)\n",
    "\n",
    "# to get red of the spaces and not consider it as tokens, use .strip() method\n",
    "#The strip() method removes any leading (starting) and trailing (ending) whitespaces from a given string\n",
    "new_result= [item for item in result if item.strip()]\n",
    "print (new_result)"
   ]
  }
 ],
 "metadata": {
  "kernelspec": {
   "display_name": "h-torch",
   "language": "python",
   "name": "python3"
  },
  "language_info": {
   "codemirror_mode": {
    "name": "ipython",
    "version": 3
   },
   "file_extension": ".py",
   "mimetype": "text/x-python",
   "name": "python",
   "nbconvert_exporter": "python",
   "pygments_lexer": "ipython3",
   "version": "3.12.3"
  }
 },
 "nbformat": 4,
 "nbformat_minor": 2
}
